{
 "cells": [
  {
   "cell_type": "code",
   "execution_count": null,
   "metadata": {
    "collapsed": false
   },
   "outputs": [],
   "source": [
    "import glob\n",
    "import os, sys\n",
    "import numpy\n",
    "from scipy import misc\n",
    "import cv2\n",
    "\n",
    "import matplotlib.pyplot as plt\n",
    "import matplotlib\n",
    "\n",
    "% matplotlib inline\n",
    "sys.path.append('../utilities')\n",
    "sys.path.append('./ori_tf_version/')\n",
    "import pickling\n",
    "import loading\n",
    "from data import parts_combination\n",
    "\n",
    "from ori_tf_version import data"
   ]
  },
  {
   "cell_type": "code",
   "execution_count": null,
   "metadata": {
    "collapsed": false
   },
   "outputs": [],
   "source": [
    "directory = '/data_set/Nan/saves/DAGAN_results/'\n",
    "model = 'patch/group16' + '/experiment/visual_outputs/*' #size64/oridagan #group16\n",
    "folder = os.path.join(directory, model)\n",
    "images = glob.glob(folder)\n",
    "epoch_per_image = [int(x[len(folder)-1:].split('_')[6].split('.')[0]) for x in images]\n",
    "data_type_list = [x[len(folder)-1:].split('_')[0] for x in images]\n",
    "print('max epoch:', max(epoch_per_image))\n",
    "images_list = list(zip(epoch_per_image, images, data_type_list))\n",
    "\n",
    "images_list_train = [x for x in images_list if x[2] == 'train']\n",
    "images_list_val = [x for x in images_list if x[2] == 'val']\n",
    "images_list_test = [x for x in images_list if x[2] == 'test']"
   ]
  },
  {
   "cell_type": "code",
   "execution_count": null,
   "metadata": {
    "collapsed": false,
    "scrolled": true
   },
   "outputs": [],
   "source": [
    "def load_interpolations(image_name, im_visual = False):\n",
    "    img = misc.imread(image)\n",
    "    img = img.astype(numpy.float32)\n",
    "    if im_visual:\n",
    "        plt.figure( figsize = (40, 40))\n",
    "        plt.imshow(img[:, : 256*8], cmap = 'gray')\n",
    "        plt.axis('off')\n",
    "        plt.show()\n",
    "    return img\n",
    "\n",
    "def noisy(noise_typ, image, var = 1):\n",
    "    row, col = image.shape\n",
    "    \n",
    "    if noise_typ == \"gauss\":\n",
    "        \n",
    "        mean = 0\n",
    "        sigma = var**0.5\n",
    "        gauss = numpy.random.normal(mean,sigma,(row,col))\n",
    "        gauss = gauss.reshape(row,col)\n",
    "        noisy = image + gauss\n",
    "        return noisy\n",
    "    \n",
    "    elif noise_typ == \"s&p\":\n",
    "        \n",
    "        s_vs_p = 0.5\n",
    "        amount = 0.004\n",
    "        out = numpy.copy(image)\n",
    "        # Salt mode\n",
    "        num_salt = numpy.ceil(amount * image.size * s_vs_p)\n",
    "        coords = [numpy.random.randint(0, i - 1, int(num_salt))\n",
    "              for i in image.shape]\n",
    "        out[coords] = 1\n",
    "\n",
    "        #  Pepper mode\n",
    "        num_pepper = numpy.ceil(amount* image.size * (1. - s_vs_p))\n",
    "        coords = [numpy.random.randint(0, i - 1, int(num_pepper))\n",
    "              for i in image.shape]\n",
    "        out[coords] = 0\n",
    "        return out\n",
    "    \n",
    "    elif noise_typ == \"poisson\":\n",
    "        vals = len(numpy.unique(image))\n",
    "        vals = 2 ** numpy.ceil(numpy.log2(vals))\n",
    "        noisy = numpy.random.poisson(image * vals) / float(vals)\n",
    "        return noisy\n",
    "    \n",
    "    elif noise_typ ==\"speckle\":\n",
    "        gauss = numpy.random.randn(row,col)\n",
    "        gauss = gauss.reshape(row,col)        \n",
    "        noisy = image + image * gauss\n",
    "        return noisy\n",
    "    \n",
    "    elif noise_typ == 'none':\n",
    "        return image\n",
    "    \n",
    "class noise_functions():\n",
    "    def __init__(self, noise_type, ksize = 5, order = [0, 1]):\n",
    "        func_dict = {'Laplacian': self.Laplacian, 'Sobel': self.Sobel, 'None': self.Ori}\n",
    "        self.noise_type = noise_type\n",
    "        self.ksize = ksize\n",
    "        self.order = order\n",
    "        self.func = func_dict[noise_type]\n",
    "        \n",
    "    def Laplacian(self, image):\n",
    "        return cv2.Laplacian(image, cv2.CV_64F)\n",
    "    \n",
    "    def Sobel(self, image):\n",
    "        return cv2.Sobel(image, cv2.CV_64F, self.order[0], self.order[1], self.ksize)\n",
    "    \n",
    "    def Ori(self, image):\n",
    "        return image\n",
    "    \n",
    "    def __call__(self, image):\n",
    "        return self.func(image)\n",
    "        \n",
    "    \n",
    "def visualize_single(img, i, j, size = 256, noise_type = 'none', normalize = True, visual = True, var = 1):\n",
    "    image = img[i*size:i*size + size,  j*size :j*size + size].copy()\n",
    "    \n",
    "    if normalize:\n",
    "        loading.normalise_single_image(image)\n",
    "    \n",
    "    image = noisy(noise_type, image, var)   \n",
    "        \n",
    "    if visual:\n",
    "        plt.figure( figsize = (4, 4))\n",
    "        plt.imshow(image, cmap='gray')\n",
    "        plt.axis('off')\n",
    "        \n",
    "    return image\n",
    "\n",
    "def compare_with_ori_image(img, i, j, size, noise_type, normalize, i_ori = 0):\n",
    "    ori_image = visualize_single(img, i_ori, 0, size = size, noise_type = 'none', normalize = normalize, visual = False)\n",
    "    image = visualize_single(img, i, j, size = size, noise_type = noise_type, var = numpy.var(ori_image) ,normalize = normalize, visual = False)\n",
    "    return ori_image, image \n",
    "#     fig=plt.figure(figsize=(4, 4))\n",
    "#     fig.add_subplot(1, 2, 1)\n",
    "#     plt.imshow(ori_image, cmap= 'gray')\n",
    "#     plt.axis('off')\n",
    "    \n",
    "#     fig.add_subplot(1, 2, 2)\n",
    "#     plt.imshow(image, cmap= 'gray')\n",
    "#     plt.axis('off')\n",
    "    \n",
    "    \n",
    "#     plt.show()\n",
    "    "
   ]
  },
  {
   "cell_type": "code",
   "execution_count": null,
   "metadata": {
    "collapsed": false,
    "scrolled": false
   },
   "outputs": [],
   "source": [
    "img_list = []\n",
    "for epoch, image, _ in images_list_test:\n",
    "    if epoch==58:\n",
    "        print(image)\n",
    "        img = load_interpolations(image, True)\n",
    "        img_list.append(img)\n",
    "        if len(img_list)>2:\n",
    "            break"
   ]
  },
  {
   "cell_type": "code",
   "execution_count": null,
   "metadata": {
    "collapsed": false
   },
   "outputs": [],
   "source": [
    "ori_image.shape\n",
    "image.shape"
   ]
  },
  {
   "cell_type": "code",
   "execution_count": null,
   "metadata": {
    "collapsed": false,
    "scrolled": false
   },
   "outputs": [],
   "source": [
    "fig=plt.figure(figsize=(4, 34))\n",
    "i = 1\n",
    "for test_img_index in range(int(img_list[0].shape[0]/256)):\n",
    "    #print(test_img_index)\n",
    "    image_to_shape = numpy.zeros([256, 256*2])\n",
    "    ori_image, image  =  compare_with_ori_image(img_list[0], test_img_index, 7, 256, 'none', True, i_ori=test_img_index)\n",
    "    image_to_shape[:,:256] = ori_image\n",
    "    image_to_shape[:,256:] = image\n",
    "    \n",
    "    fig.add_subplot(16, 1, i)\n",
    "    plt.imshow(image_to_shape, cmap= 'gray')\n",
    "    plt.axis('off')\n",
    "\n",
    "    i+=1\n",
    "#     fig.add_subplot(16, 2, i)\n",
    "#     plt.imshow(ori_image, cmap= 'gray')\n",
    "#     plt.axis('off')\n",
    "    \n",
    "#     fig.add_subplot(16, 2, i+1)\n",
    "#     plt.imshow(image, cmap= 'gray')\n",
    "#     plt.axis('off')\n",
    "    \n",
    "#     i+=2\n",
    "    \n",
    "    \n",
    "plt.show()\n",
    "    "
   ]
  },
  {
   "cell_type": "code",
   "execution_count": null,
   "metadata": {
    "collapsed": true
   },
   "outputs": [],
   "source": [
    "#### data_parameters = {'patches_directory':'/data_set/Nan/data/segmentation_patches/DAGAN_binary_parts_size_2000/',\n",
    "              'training_data_parts': 2,\n",
    "              'validation_data_parts': 1,\n",
    "              'test_data_parts': 1}  \n",
    "\n",
    "x_train = parts_combination(data_parameters['patches_directory'], 'training', data_parameters['training_data_parts'])\n",
    "x_val = parts_combination(data_parameters['patches_directory'], 'validation', data_parameters['validation_data_parts'])\n",
    "x_test = parts_combination(data_parameters['patches_directory'], 'test', data_parameters['test_data_parts'])"
   ]
  },
  {
   "cell_type": "code",
   "execution_count": null,
   "metadata": {
    "collapsed": false
   },
   "outputs": [],
   "source": [
    "x_train[1].shape"
   ]
  },
  {
   "cell_type": "code",
   "execution_count": null,
   "metadata": {
    "collapsed": false
   },
   "outputs": [],
   "source": [
    "b= x_train[1][:,::2,::2,:].copy() \n",
    "b = b[:,::2,::2,:].copy() "
   ]
  },
  {
   "cell_type": "code",
   "execution_count": null,
   "metadata": {
    "collapsed": false,
    "scrolled": true
   },
   "outputs": [],
   "source": [
    "max_num_of_image = x_train[1].shape[0]\n",
    "for i in range(100):\n",
    "    plt.imshow(b[i,:,:,0], cmap='gray')\n",
    "    plt.axis('off')\n",
    "    plt.show()"
   ]
  },
  {
   "cell_type": "code",
   "execution_count": null,
   "metadata": {
    "collapsed": false
   },
   "outputs": [],
   "source": [
    "max_num_of_image = x_train[1].shape[0]\n",
    "for i in range(100):\n",
    "    plt.imshow(x_train[0][i,:,:,0], cmap='gray')\n",
    "    plt.axis('off')\n",
    "    plt.show()"
   ]
  }
 ],
 "metadata": {
  "kernelspec": {
   "display_name": "Python 3",
   "language": "python",
   "name": "python3"
  }
 },
 "nbformat": 4,
 "nbformat_minor": 0
}
